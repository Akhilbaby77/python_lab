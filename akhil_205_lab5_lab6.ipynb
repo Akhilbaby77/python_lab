{
  "nbformat": 4,
  "nbformat_minor": 0,
  "metadata": {
    "colab": {
      "provenance": []
    },
    "kernelspec": {
      "name": "python3",
      "display_name": "Python 3"
    },
    "language_info": {
      "name": "python"
    }
  },
  "cells": [
    {
      "cell_type": "markdown",
      "source": [
        "lab 5"
      ],
      "metadata": {
        "id": "4ADoSlr3oA1z"
      }
    },
    {
      "cell_type": "markdown",
      "source": [
        "Q1. Write a program to handle the exception of ZeroDivisionError.\n"
      ],
      "metadata": {
        "id": "E3C7MaqUlY93"
      }
    },
    {
      "cell_type": "code",
      "execution_count": 1,
      "metadata": {
        "colab": {
          "base_uri": "https://localhost:8080/"
        },
        "id": "lLetTWI3jdg4",
        "outputId": "821232fc-cb83-4779-b3d8-2f8cd9cfe5ab"
      },
      "outputs": [
        {
          "output_type": "stream",
          "name": "stdout",
          "text": [
            "Enter the dividend: 4\n",
            "Enter the divisor: 0\n",
            "Division by zero is not possible\n"
          ]
        }
      ],
      "source": [
        "\n",
        "\n",
        "def div():\n",
        "    try:\n",
        "        a = int(input(\"Enter the dividend: \"))\n",
        "        b = int(input(\"Enter the divisor: \"))\n",
        "        c = a/b\n",
        "        print(\"Quiotent is: \",c)\n",
        "    except ZeroDivisionError:\n",
        "        print(\"Division by zero is not possible\")\n",
        "\n",
        "div()\n",
        "\n"
      ]
    },
    {
      "cell_type": "markdown",
      "source": [
        "Q2. Write a program to handle the exception of IndexError.\n"
      ],
      "metadata": {
        "id": "Hx_7jzsFlWuv"
      }
    },
    {
      "cell_type": "code",
      "source": [
        "try:\n",
        "    lst = ['amal','python',57]\n",
        "    a =  int(input(\"enter the index: \"))\n",
        "    print(\"value in the index: \",lst[a])\n",
        "except IndexError:\n",
        "    print(\"Index error\\n\")\n",
        "finally:\n",
        "    print(\"printing list\\n\",lst)\n",
        ""
      ],
      "metadata": {
        "colab": {
          "base_uri": "https://localhost:8080/"
        },
        "id": "-9s8k38eluO-",
        "outputId": "ba24aac4-fca0-423b-a835-79e53859e54a"
      },
      "execution_count": 2,
      "outputs": [
        {
          "output_type": "stream",
          "name": "stdout",
          "text": [
            "enter the index: 5\n",
            "Index error\n",
            "\n",
            "printing list\n",
            " ['amal', 'python', 57]\n"
          ]
        }
      ]
    },
    {
      "cell_type": "markdown",
      "source": [
        "lab 6"
      ],
      "metadata": {
        "id": "VpX-5xtGn9FG"
      }
    },
    {
      "cell_type": "markdown",
      "source": [
        "Q1. Write a program using the Regular Exception and create a function that accepts a string and searches it for a valid phone number.\n",
        "Return the phone number if found.\n",
        "A valid phone number may be one of the following:\n",
        "(xxx)-xxx-xxxx\n",
        "xxx-xxx-xxxx\n"
      ],
      "metadata": {
        "id": "DgYduPKpnhQK"
      }
    },
    {
      "cell_type": "code",
      "source": [
        "import re\n",
        "import string\n",
        "\n",
        "RE_phone = re.compile(\"^[a-z0-9]{3}-[a-z0-9]{3}-[a-z0-9]{4}$\")\n",
        "\n",
        "def phone():\n",
        "    str1 = str(input(\"enter your details\"))\n",
        "    li = list(str1.split(\" \"))\n",
        "    for i in range(0,len(li)):\n",
        "        if RE_phone.match(li[i]):\n",
        "            print(\"valid phone number(s): \",li[i])\n",
        "phone()\n"
      ],
      "metadata": {
        "colab": {
          "base_uri": "https://localhost:8080/"
        },
        "id": "j01BlVy2jpGE",
        "outputId": "edd9f333-3b41-43fb-ddf1-ab0cc8fc5a55"
      },
      "execution_count": 3,
      "outputs": [
        {
          "output_type": "stream",
          "name": "stdout",
          "text": [
            "enter your details889-224-4574\n",
            "valid phone number(s):  889-224-4574\n"
          ]
        }
      ]
    },
    {
      "cell_type": "markdown",
      "source": [
        "Q2. Write a function that employs regular expressions to ensure the password given to the function is strong.\n",
        "A strong password is defined as follows:\n",
        "·       at least eight characters long\n",
        "·       contains one uppercase character\n",
        "·       contains one lowercase character\n",
        "·       has at least one digit\n",
        "·       has at least one special character\n",
        "[For instance: Christ@123]\n"
      ],
      "metadata": {
        "id": "p1s7iJvSnZRw"
      }
    },
    {
      "cell_type": "code",
      "source": [
        "def password():\n",
        "    pass1 = str(input(\"enter your password\"))\n",
        "    print(pass1)\n",
        "    if re.fullmatch(r\"^[A-Za-z0-9@#$%^&+=]{8,}$\", pass1):\n",
        "        print(\"The password is strong\")\n",
        "    else:\n",
        "        print(\"The password is weak\")\n",
        "password()"
      ],
      "metadata": {
        "colab": {
          "base_uri": "https://localhost:8080/"
        },
        "id": "BVoFGl9njqdN",
        "outputId": "dec42645-37ed-43bc-c8bd-a10c6ccd7fd4"
      },
      "execution_count": 9,
      "outputs": [
        {
          "output_type": "stream",
          "name": "stdout",
          "text": [
            "enter your passwordsdf\n",
            "sdf\n",
            "The password is weak\n"
          ]
        }
      ]
    }
  ]
}