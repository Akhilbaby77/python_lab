{
  "nbformat": 4,
  "nbformat_minor": 0,
  "metadata": {
    "colab": {
      "provenance": []
    },
    "kernelspec": {
      "name": "python3",
      "display_name": "Python 3"
    },
    "language_info": {
      "name": "python"
    }
  },
  "cells": [
    {
      "cell_type": "markdown",
      "source": [
        "lab 8"
      ],
      "metadata": {
        "id": "0EEVJx8nIaCV"
      }
    },
    {
      "cell_type": "markdown",
      "source": [
        "Q1. Write a program to distinguish between Array Indexing and Fancy Indexing."
      ],
      "metadata": {
        "id": "Uz8o94e7wJEO"
      }
    },
    {
      "cell_type": "code",
      "execution_count": null,
      "metadata": {
        "colab": {
          "base_uri": "https://localhost:8080/"
        },
        "id": "MBBMgnjcvaqv",
        "outputId": "8900e5dd-66c4-40a8-eb42-3398b7a0cde8"
      },
      "outputs": [
        {
          "output_type": "stream",
          "name": "stdout",
          "text": [
            "Array indexing:\n",
            "Element at arr[1, 2]: 6\n",
            "\n",
            "Fancy indexing:\n",
            "Elements at indices: [[[1 2 3]\n",
            "  [4 5 6]]\n",
            "\n",
            " [[7 8 9]\n",
            "  [1 2 3]]]\n"
          ]
        }
      ],
      "source": [
        "import numpy as np\n",
        "\n",
        "arr = np.array([[1, 2, 3], [4, 5, 6], [7, 8, 9]])\n",
        "\n",
        "\n",
        "print(\"Array indexing:\")\n",
        "print(\"Element at arr[1, 2]:\", arr[1, 2])\n",
        "\n",
        "\n",
        "print(\"\\nFancy indexing:\")\n",
        "indices = np.array([[0, 1], [2, 0]])\n",
        "print(\"Elements at indices:\", arr[indices])\n"
      ]
    },
    {
      "cell_type": "markdown",
      "source": [
        "Q2. Execute the 2D array Slicing."
      ],
      "metadata": {
        "id": "EdGppOYtwOoy"
      }
    },
    {
      "cell_type": "code",
      "source": [
        "import numpy as np\n",
        "\n",
        "\n",
        "arr = np.array([[1, 2, 3], [4, 5, 6], [7, 8, 9]])\n",
        "\n",
        "\n",
        "sliced_arr = arr[0:2, 1:3]\n",
        "print(\"Sliced array:\")\n",
        "print(sliced_arr)\n"
      ],
      "metadata": {
        "colab": {
          "base_uri": "https://localhost:8080/"
        },
        "id": "9vajOLwdvwIw",
        "outputId": "354c4640-74b9-4bf6-916c-19e85cc8422c"
      },
      "execution_count": null,
      "outputs": [
        {
          "output_type": "stream",
          "name": "stdout",
          "text": [
            "Sliced array:\n",
            "[[2 3]\n",
            " [5 6]]\n"
          ]
        }
      ]
    },
    {
      "cell_type": "markdown",
      "source": [
        "Q3. Create the 5-Dimensional arrays using ‘ndmin’."
      ],
      "metadata": {
        "id": "C40EtssQwV6j"
      }
    },
    {
      "cell_type": "code",
      "source": [
        "import numpy as np\n",
        "\n",
        "\n",
        "five_dim_array = np.array([1, 2, 3], ndmin=5)\n",
        "\n",
        "print(\"Shape of the 5-dimensional array:\", five_dim_array.shape)\n",
        "print(\"Contents of the 5-dimensional array:\")\n",
        "print(five_dim_array)\n"
      ],
      "metadata": {
        "colab": {
          "base_uri": "https://localhost:8080/"
        },
        "id": "hcTgbBHgwU1_",
        "outputId": "7258d74d-1f16-47b6-c292-b6c32c333cdd"
      },
      "execution_count": null,
      "outputs": [
        {
          "output_type": "stream",
          "name": "stdout",
          "text": [
            "Shape of the 5-dimensional array: (1, 1, 1, 1, 3)\n",
            "Contents of the 5-dimensional array:\n",
            "[[[[[1 2 3]]]]]\n"
          ]
        }
      ]
    },
    {
      "cell_type": "markdown",
      "source": [
        "Q4. Reshape the array from 1-D to 2-D array."
      ],
      "metadata": {
        "id": "dGgWiKZVwuYj"
      }
    },
    {
      "cell_type": "code",
      "source": [
        "import numpy as np\n",
        "\n",
        "arr_1d = np.array([1, 2, 3, 4, 5, 6])\n",
        "\n",
        "\n",
        "arr_2d = arr_1d.reshape(2, 3)\n",
        "\n",
        "print(\"Original 1D array:\")\n",
        "print(arr_1d)\n",
        "\n",
        "print(\"\\nReshaped 2D array:\")\n",
        "print(arr_2d)\n"
      ],
      "metadata": {
        "colab": {
          "base_uri": "https://localhost:8080/"
        },
        "id": "dmK2XdKDwtXC",
        "outputId": "24fd779e-154e-40cc-d863-0db604510dc7"
      },
      "execution_count": null,
      "outputs": [
        {
          "output_type": "stream",
          "name": "stdout",
          "text": [
            "Original 1D array:\n",
            "[1 2 3 4 5 6]\n",
            "\n",
            "Reshaped 2D array:\n",
            "[[1 2 3]\n",
            " [4 5 6]]\n"
          ]
        }
      ]
    },
    {
      "cell_type": "markdown",
      "source": [
        "Q5. Perform the Stack functions in Numpy arrays – Stack(), hstack(), vstack(), and dstack()."
      ],
      "metadata": {
        "id": "vHm-Q7Fiw_Wz"
      }
    },
    {
      "cell_type": "code",
      "source": [
        "import numpy as np\n",
        "\n",
        "\n",
        "arr1 = np.array([1, 2, 3])\n",
        "arr2 = np.array([4, 5, 6])\n",
        "\n",
        "\n",
        "stacked_array = np.stack((arr1, arr2))\n",
        "print(\"Stacked array using np.stack():\")\n",
        "print(stacked_array)\n",
        "\n",
        "\n",
        "hstacked_array = np.hstack((arr1, arr2))\n",
        "print(\"\\nHorizontally stacked array using np.hstack():\")\n",
        "print(hstacked_array)\n",
        "\n",
        "\n",
        "vstacked_array = np.vstack((arr1, arr2))\n",
        "print(\"\\nVertically stacked array using np.vstack():\")\n",
        "print(vstacked_array)\n",
        "\n",
        "\n",
        "dstacked_array = np.dstack((arr1, arr2))\n",
        "print(\"\\nDepth-wise stacked array using np.dstack():\")\n",
        "print(dstacked_array)\n"
      ],
      "metadata": {
        "colab": {
          "base_uri": "https://localhost:8080/"
        },
        "id": "MsyIyyKKw-sP",
        "outputId": "f12032d9-848d-41eb-c5e4-ddf7e2dd0d95"
      },
      "execution_count": null,
      "outputs": [
        {
          "output_type": "stream",
          "name": "stdout",
          "text": [
            "Stacked array using np.stack():\n",
            "[[1 2 3]\n",
            " [4 5 6]]\n",
            "\n",
            "Horizontally stacked array using np.hstack():\n",
            "[1 2 3 4 5 6]\n",
            "\n",
            "Vertically stacked array using np.vstack():\n",
            "[[1 2 3]\n",
            " [4 5 6]]\n",
            "\n",
            "Depth-wise stacked array using np.dstack():\n",
            "[[[1 4]\n",
            "  [2 5]\n",
            "  [3 6]]]\n"
          ]
        }
      ]
    },
    {
      "cell_type": "markdown",
      "source": [
        "Q6. Perform the searchsort method in Numpy array."
      ],
      "metadata": {
        "id": "VUyZfU40xbmG"
      }
    },
    {
      "cell_type": "code",
      "source": [
        "import numpy as np\n",
        "\n",
        "arr = np.array([10, 20, 30, 40, 50])\n",
        "\n",
        "value_to_insert = 25\n",
        "\n",
        "insert_index = np.searchsorted(arr, value_to_insert)\n",
        "\n",
        "sorted_arr = np.insert(arr, insert_index, value_to_insert)\n",
        "\n",
        "print(\"Original sorted array:\", arr)\n",
        "print(\"Sorted array after insertion:\", sorted_arr)\n"
      ],
      "metadata": {
        "id": "2n1kKNcJxZj8",
        "colab": {
          "base_uri": "https://localhost:8080/",
          "height": 0
        },
        "outputId": "aeb5baf5-334a-433a-b667-39069855074b"
      },
      "execution_count": 1,
      "outputs": [
        {
          "output_type": "stream",
          "name": "stdout",
          "text": [
            "Original sorted array: [10 20 30 40 50]\n",
            "Sorted array after insertion: [10 20 25 30 40 50]\n"
          ]
        }
      ]
    },
    {
      "cell_type": "markdown",
      "source": [
        "Q7. Create Numpy Structured array using your domain features."
      ],
      "metadata": {
        "id": "iIGYbWwiEK_m"
      }
    },
    {
      "cell_type": "code",
      "source": [
        "import numpy as np\n",
        "\n",
        "rental_dtype = np.dtype([\n",
        "    ('rental_id', 'int'),\n",
        "    ('customer_name', 'U50'),\n",
        "    ('vehicle_type', 'U20'),\n",
        "    ('rental_duration', 'int'),\n",
        "    ('rental_cost', 'float')\n",
        "])\n",
        "\n",
        "\n",
        "rental_data = [\n",
        "    (1, 'John Doe', 'SUV', 5, 350.0),\n",
        "    (2, 'Jane Smith', 'Compact', 3, 200.0),\n",
        "    (3, 'Mike Johnson', 'Minivan', 7, 500.0)\n",
        "]\n",
        "\n",
        "\n",
        "rentals_array = np.array(rental_data, dtype=rental_dtype)\n",
        "\n",
        "print(\"First rental record:\")\n",
        "print(\"Rental ID:\", rentals_array[0]['rental_id'])\n",
        "print(\"Customer Name:\", rentals_array[0]['customer_name'])\n",
        "print(\"Vehicle Type:\", rentals_array[0]['vehicle_type'])\n",
        "print(\"Rental Duration:\", rentals_array[0]['rental_duration'])\n",
        "print(\"Rental Cost:\", rentals_array[0]['rental_cost'])\n"
      ],
      "metadata": {
        "colab": {
          "base_uri": "https://localhost:8080/",
          "height": 0
        },
        "id": "EusEHN-uD2NN",
        "outputId": "c65a3ce0-867a-4799-9870-47cd5847c607"
      },
      "execution_count": 2,
      "outputs": [
        {
          "output_type": "stream",
          "name": "stdout",
          "text": [
            "First rental record:\n",
            "Rental ID: 1\n",
            "Customer Name: John Doe\n",
            "Vehicle Type: SUV\n",
            "Rental Duration: 5\n",
            "Rental Cost: 350.0\n"
          ]
        }
      ]
    },
    {
      "cell_type": "markdown",
      "source": [
        "Q8. Create Data frame using List and Dictionary."
      ],
      "metadata": {
        "id": "bMtrepAgHELs"
      }
    },
    {
      "cell_type": "code",
      "source": [
        "import pandas as pd\n",
        "\n",
        "names = ['Alice', 'Bob', 'Charlie', 'David', 'Emma']\n",
        "ages = [25, 30, 35, 40, 45]\n",
        "\n",
        "data = {\n",
        "    'Name': names,\n",
        "    'Age': ages\n",
        "}\n",
        "\n",
        "df = pd.DataFrame(data)\n",
        "\n",
        "print(df)\n"
      ],
      "metadata": {
        "colab": {
          "base_uri": "https://localhost:8080/",
          "height": 0
        },
        "id": "UmXKzaAcHChi",
        "outputId": "02e835a2-8fa9-462c-f582-8765871e1b28"
      },
      "execution_count": 3,
      "outputs": [
        {
          "output_type": "stream",
          "name": "stdout",
          "text": [
            "      Name  Age\n",
            "0    Alice   25\n",
            "1      Bob   30\n",
            "2  Charlie   35\n",
            "3    David   40\n",
            "4     Emma   45\n"
          ]
        }
      ]
    },
    {
      "cell_type": "markdown",
      "source": [
        "Q9. Create Data frame on your Domain area and perform the following operations to find and eliminate the\n",
        "missing data from the dataset.\n",
        "• isnull()\n",
        "• notnull()\n",
        "• dropna()\n",
        "• fillna()\n",
        "• replace()\n",
        "• interpolate()"
      ],
      "metadata": {
        "id": "YWqhMsMkHrqa"
      }
    },
    {
      "cell_type": "code",
      "source": [
        "import pandas as pd\n",
        "import numpy as np\n",
        "\n",
        "\n",
        "rental_data = {\n",
        "    'rental_id': [1, 2, np.nan, 4, 5],\n",
        "    'customer_name': ['John Doe', 'Jane Smith', 'Mike Johnson', np.nan, 'Sarah'],\n",
        "    'vehicle_type': ['SUV', 'Compact', np.nan, 'Minivan', 'Sedan'],\n",
        "    'rental_duration': [5, np.nan, 7, 3, np.nan],\n",
        "    'rental_cost': [350.0, 200.0, np.nan, np.nan, 400.0]\n",
        "}\n",
        "\n",
        "\n",
        "df = pd.DataFrame(rental_data)\n",
        "\n",
        "\n",
        "print(\"Original DataFrame:\")\n",
        "print(df)\n",
        "\n",
        "\n",
        "print(\"\\nCheck for missing data (isnull()):\")\n",
        "print(df.isnull())\n",
        "\n",
        "print(\"\\nCheck for non-missing data (notnull()):\")\n",
        "print(df.notnull())\n",
        "\n",
        "\n",
        "df_dropna = df.dropna()\n",
        "print(\"\\nDataFrame after dropping rows with any missing data:\")\n",
        "print(df_dropna)\n",
        "\n",
        "df_fillna = df.fillna(0)\n",
        "print(\"\\nDataFrame after filling missing data with 0:\")\n",
        "print(df_fillna)\n",
        "\n",
        "\n",
        "df_interpolate = df.interpolate()\n",
        "print(\"\\nDataFrame after interpolating missing values:\")\n",
        "print(df_interpolate)\n"
      ],
      "metadata": {
        "colab": {
          "base_uri": "https://localhost:8080/",
          "height": 0
        },
        "id": "PtVO5xnXHNyE",
        "outputId": "7f827c2e-c1f1-4e13-aaff-f7374f1cb6ef"
      },
      "execution_count": 4,
      "outputs": [
        {
          "output_type": "stream",
          "name": "stdout",
          "text": [
            "Original DataFrame:\n",
            "   rental_id customer_name vehicle_type  rental_duration  rental_cost\n",
            "0        1.0      John Doe          SUV              5.0        350.0\n",
            "1        2.0    Jane Smith      Compact              NaN        200.0\n",
            "2        NaN  Mike Johnson          NaN              7.0          NaN\n",
            "3        4.0           NaN      Minivan              3.0          NaN\n",
            "4        5.0         Sarah        Sedan              NaN        400.0\n",
            "\n",
            "Check for missing data (isnull()):\n",
            "   rental_id  customer_name  vehicle_type  rental_duration  rental_cost\n",
            "0      False          False         False            False        False\n",
            "1      False          False         False             True        False\n",
            "2       True          False          True            False         True\n",
            "3      False           True         False            False         True\n",
            "4      False          False         False             True        False\n",
            "\n",
            "Check for non-missing data (notnull()):\n",
            "   rental_id  customer_name  vehicle_type  rental_duration  rental_cost\n",
            "0       True           True          True             True         True\n",
            "1       True           True          True            False         True\n",
            "2      False           True         False             True        False\n",
            "3       True          False          True             True        False\n",
            "4       True           True          True            False         True\n",
            "\n",
            "DataFrame after dropping rows with any missing data:\n",
            "   rental_id customer_name vehicle_type  rental_duration  rental_cost\n",
            "0        1.0      John Doe          SUV              5.0        350.0\n",
            "\n",
            "DataFrame after filling missing data with 0:\n",
            "   rental_id customer_name vehicle_type  rental_duration  rental_cost\n",
            "0        1.0      John Doe          SUV              5.0        350.0\n",
            "1        2.0    Jane Smith      Compact              0.0        200.0\n",
            "2        0.0  Mike Johnson            0              7.0          0.0\n",
            "3        4.0             0      Minivan              3.0          0.0\n",
            "4        5.0         Sarah        Sedan              0.0        400.0\n",
            "\n",
            "DataFrame after interpolating missing values:\n",
            "   rental_id customer_name vehicle_type  rental_duration  rental_cost\n",
            "0        1.0      John Doe          SUV              5.0   350.000000\n",
            "1        2.0    Jane Smith      Compact              6.0   200.000000\n",
            "2        3.0  Mike Johnson          NaN              7.0   266.666667\n",
            "3        4.0           NaN      Minivan              3.0   333.333333\n",
            "4        5.0         Sarah        Sedan              3.0   400.000000\n"
          ]
        }
      ]
    },
    {
      "cell_type": "markdown",
      "source": [
        "Q10. Perform the Hierarchical Indexing in the above created dataset."
      ],
      "metadata": {
        "id": "PGRCQClzISOI"
      }
    },
    {
      "cell_type": "code",
      "source": [
        "import pandas as pd\n",
        "import numpy as np\n",
        "\n",
        "rental_data = {\n",
        "    'rental_id': [1, 2, 3, 4, 5],\n",
        "    'customer_name': ['John Doe', 'Jane Smith', 'Mike Johnson', 'David Brown', 'Emma Davis'],\n",
        "    'vehicle_type': ['SUV', 'Compact', 'Minivan', 'Sedan', 'SUV'],\n",
        "    'rental_duration': [5, 3, 7, 2, 4],\n",
        "    'rental_cost': [350.0, 200.0, 450.0, 300.0, 400.0]\n",
        "}\n",
        "\n",
        "\n",
        "df = pd.DataFrame(rental_data)\n",
        "\n",
        "df.set_index(['rental_id', 'customer_name'], inplace=True)\n",
        "\n",
        "print(\"DataFrame with Hierarchical Index:\")\n",
        "print(df)\n"
      ],
      "metadata": {
        "id": "ARcz4qX8H2BF"
      },
      "execution_count": null,
      "outputs": []
    }
  ]
}