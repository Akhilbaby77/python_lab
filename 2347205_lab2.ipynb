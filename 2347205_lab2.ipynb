{
  "nbformat": 4,
  "nbformat_minor": 0,
  "metadata": {
    "colab": {
      "provenance": []
    },
    "kernelspec": {
      "name": "python3",
      "display_name": "Python 3"
    },
    "language_info": {
      "name": "python"
    }
  },
  "cells": [
    {
      "cell_type": "markdown",
      "source": [],
      "metadata": {
        "id": "lcVwf0HVaeeO"
      }
    },
    {
      "cell_type": "markdown",
      "source": [
        "Lab Exercise - 2\n",
        "i)                LIST\n",
        "·                 Create a LIST with your domain attributes, insert the elements using the append (), insert(), extend() and add any iterables (tuples, sets, dictionaries etc.) to the list (Use all the methods ).\n",
        "·                 Create a list with numeric and perform the following operations.\n",
        "·       Write a program to swap the first and last elements in a list.\n",
        "·       Write a program to find the sum of the digits in a list.\n",
        "·       Write a program to find the smallest element in a list.\n",
        "\n",
        " \t\tii)              Dictionaries\n",
        "·                  Sort the dictionaries in ascending order based on the Key of the dictionary.\n",
        "·                  Create the dictionary with Numeric as Value in Key – Value pair and find the sum of all the values in the Dictionary.\n",
        "·                  Write a Python code to demonstrate the sorting in descending order of values with lambda function.\n"
      ],
      "metadata": {
        "id": "vAlBOqnYaCW6"
      }
    },
    {
      "cell_type": "code",
      "source": [
        "vehicle_attributes = []\n",
        "\n",
        "vehicle_attributes.append(\"Vehicle Type\")\n",
        "vehicle_attributes.append(\"License Plate Number\")\n",
        "\n",
        "vehicle_attributes.insert(1, \"Model\")\n",
        "vehicle_attributes.insert(3, \"Color\")\n",
        "\n",
        "vehicle_attributes.extend((\"Rental Start Date\", \"Rental End Date\"))\n",
        "\n",
        "extra_attributes = {\"Insurance\": \"Yes\", \"Fuel Type\": \"Petrol\"}\n",
        "vehicle_attributes.append(extra_attributes)\n",
        "\n",
        "print(\"Vehicle Rental Management Attributes List:\", vehicle_attributes)"
      ],
      "metadata": {
        "colab": {
          "base_uri": "https://localhost:8080/"
        },
        "id": "dfYnNDSKSVl9",
        "outputId": "41559714-1928-4154-cda6-4fd829973803"
      },
      "execution_count": null,
      "outputs": [
        {
          "output_type": "stream",
          "name": "stdout",
          "text": [
            "Vehicle Rental Management Attributes List: ['Vehicle Type', 'Model', 'License Plate Number', 'Color', 'Rental Start Date', 'Rental End Date', {'Insurance': 'Yes', 'Fuel Type': 'Petrol'}]\n"
          ]
        }
      ]
    },
    {
      "cell_type": "markdown",
      "source": [],
      "metadata": {
        "id": "XynHKamYZ7N0"
      }
    },
    {
      "cell_type": "markdown",
      "source": [],
      "metadata": {
        "id": "a9-R6afFZ77u"
      }
    },
    {
      "cell_type": "code",
      "source": [
        "numeric_list = [10, 25, 7, 14, 30]\n",
        "\n",
        "sum_of_elements = sum(numeric_list)\n",
        "print(\"Sum of elements in the list:\", sum_of_elements)\n",
        "\n",
        "numeric_list[0], numeric_list[-1] = numeric_list[-1], numeric_list[0]\n",
        "print(\"List after swapping first and last elements:\", numeric_list)\n",
        "\n",
        "smallest_element = min(numeric_list)\n",
        "print(\"Smallest element in the list:\", smallest_element)"
      ],
      "metadata": {
        "colab": {
          "base_uri": "https://localhost:8080/"
        },
        "id": "D3VjG10iSxMW",
        "outputId": "60a5e273-9262-4ef0-8aed-f69d3f6d04ac"
      },
      "execution_count": null,
      "outputs": [
        {
          "output_type": "stream",
          "name": "stdout",
          "text": [
            "Sum of elements in the list: 86\n",
            "List after swapping first and last elements: [30, 25, 7, 14, 10]\n",
            "Smallest element in the list: 7\n"
          ]
        }
      ]
    },
    {
      "cell_type": "code",
      "source": [
        "vehicle_rental_list = [\n",
        "    {\"Vehicle Type\": \"SUV\", \"License Plate Number\": \"ABC123\", \"Model\": \"Toyota\", \"Color\": \"Blue\"},\n",
        "    {\"Vehicle Type\": \"Sedan\", \"License Plate Number\": \"XYZ789\", \"Model\": \"Honda\", \"Color\": \"Black\"},\n",
        "    {\"Vehicle Type\": \"Truck\", \"License Plate Number\": \"DEF456\", \"Model\": \"Ford\", \"Color\": \"White\"}\n",
        "]\n",
        "\n",
        "sorted_vehicle_rental_list = sorted(vehicle_rental_list, key=lambda x: list(x.keys()))\n",
        "\n",
        "for vehicle_dict in sorted_vehicle_rental_list:\n",
        "    print(vehicle_dict)"
      ],
      "metadata": {
        "colab": {
          "base_uri": "https://localhost:8080/"
        },
        "id": "xm_zRWhWVuXT",
        "outputId": "1aca5f3b-3073-458b-b19d-9e160fb1516d"
      },
      "execution_count": null,
      "outputs": [
        {
          "output_type": "stream",
          "name": "stdout",
          "text": [
            "{'Vehicle Type': 'SUV', 'License Plate Number': 'ABC123', 'Model': 'Toyota', 'Color': 'Blue'}\n",
            "{'Vehicle Type': 'Sedan', 'License Plate Number': 'XYZ789', 'Model': 'Honda', 'Color': 'Black'}\n",
            "{'Vehicle Type': 'Truck', 'License Plate Number': 'DEF456', 'Model': 'Ford', 'Color': 'White'}\n"
          ]
        }
      ]
    },
    {
      "cell_type": "code",
      "source": [
        "vehicle_rental_dict = {\n",
        "    \"Vehicle Type\": 1,\n",
        "    \"License Plate Number\": 2,\n",
        "    \"Model\": 3,\n",
        "    \"Color\": 4,\n",
        "    \"Rental Start Date\": 5,\n",
        "    \"Rental End Date\": 6\n",
        "}\n",
        "\n",
        "sum_of_values = sum(vehicle_rental_dict.values())\n",
        "\n",
        "print(\"Vehicle Rental Domain Dictionary:\", vehicle_rental_dict)\n",
        "print(\"Sum of all values in the dictionary:\", sum_of_values)\n"
      ],
      "metadata": {
        "colab": {
          "base_uri": "https://localhost:8080/"
        },
        "id": "VL6M57zHWoUF",
        "outputId": "2a070029-122c-482c-fd0a-e0b78eab4595"
      },
      "execution_count": null,
      "outputs": [
        {
          "output_type": "stream",
          "name": "stdout",
          "text": [
            "Vehicle Rental Domain Dictionary: {'Vehicle Type': 1, 'License Plate Number': 2, 'Model': 3, 'Color': 4, 'Rental Start Date': 5, 'Rental End Date': 6}\n",
            "Sum of all values in the dictionary: 21\n"
          ]
        }
      ]
    },
    {
      "cell_type": "code",
      "source": [
        "unsorted_dict = {\"a\": 3, \"b\": 1, \"c\": 2}\n",
        "sorted_dict = dict(sorted(unsorted_dict.items(), key=lambda item: item[1], reverse=True))\n",
        "print(\"Sorted dictionary by values in descending order:\", sorted_dict)"
      ],
      "metadata": {
        "colab": {
          "base_uri": "https://localhost:8080/"
        },
        "id": "elFkiO2pXlT8",
        "outputId": "8073fa8b-2a85-4917-ee82-9afd5dfb8496"
      },
      "execution_count": null,
      "outputs": [
        {
          "output_type": "stream",
          "name": "stdout",
          "text": [
            "Sorted dictionary by values in descending order: {'a': 3, 'c': 2, 'b': 1}\n"
          ]
        }
      ]
    }
  ]
}