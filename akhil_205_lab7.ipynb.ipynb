{
  "nbformat": 4,
  "nbformat_minor": 0,
  "metadata": {
    "colab": {
      "provenance": []
    },
    "kernelspec": {
      "name": "python3",
      "display_name": "Python 3"
    },
    "language_info": {
      "name": "python"
    }
  },
  "cells": [
    {
      "cell_type": "code",
      "execution_count": 5,
      "metadata": {
        "colab": {
          "base_uri": "https://localhost:8080/",
          "height": 0
        },
        "id": "oVhzOe7PYlfH",
        "outputId": "59cb0acd-d885-453d-efbc-98f28715663f"
      },
      "outputs": [
        {
          "output_type": "stream",
          "name": "stdout",
          "text": [
            "Matrix 1:\n",
            "[[0.9438747  0.96767498 0.7329571 ]\n",
            " [0.82948097 0.86268031 0.89471349]\n",
            " [0.91728806 0.12890949 0.78222869]]\n",
            "\n",
            "Matrix 2:\n",
            "[[0.98075716 0.95330329 0.5449849 ]\n",
            " [0.31579535 0.8807488  0.33006813]\n",
            " [0.13348003 0.20178366 0.79270145]]\n",
            "\n",
            "Element-wise product (prod):\n",
            "[[0.92571186 0.92248774 0.39945055]\n",
            " [0.26194623 0.75980465 0.29531641]\n",
            " [0.12243964 0.02601183 0.62007381]]\n",
            "\n",
            "Matrix multiplication (multiply):\n",
            "[[1.32913426 1.8999762  1.41481229]\n",
            " [1.20537622 1.73109015 1.44603856]\n",
            " [1.04475776 1.14583157 1.16253087]]\n",
            "\n",
            "Dot product (dot):\n",
            "4.333242734365971\n"
          ]
        }
      ],
      "source": [
        "import numpy as np\n",
        "\n",
        "\n",
        "matrix1 = np.random.rand(3, 3)\n",
        "matrix2 = np.random.rand(3, 3)\n",
        "\n",
        "print(\"Matrix 1:\")\n",
        "print(matrix1)\n",
        "print(\"\\nMatrix 2:\")\n",
        "print(matrix2)\n",
        "\n",
        "\n",
        "elementwise_product = np.prod([matrix1, matrix2], axis=0)\n",
        "\n",
        "\n",
        "matrix_multiplication = np.matmul(matrix1, matrix2)\n",
        "\n",
        "dot_product = np.dot(matrix1.flatten(), matrix2.flatten())\n",
        "\n",
        "\n",
        "print(\"\\nElement-wise product (prod):\")\n",
        "print(elementwise_product)\n",
        "\n",
        "print(\"\\nMatrix multiplication (multiply):\")\n",
        "print(matrix_multiplication)\n",
        "\n",
        "print(\"\\nDot product (dot):\")\n",
        "print(dot_product)\n"
      ]
    },
    {
      "cell_type": "code",
      "source": [
        "import numpy as np\n",
        "\n",
        "array1 = np.array([1, 2, 3, 4, 5])\n",
        "array2 = np.array([3, 4, 5, 6, 7])\n",
        "\n",
        "union_result = np.union1d(array1, array2)\n",
        "\n",
        "intersection_result = np.intersect1d(array1, array2)\n",
        "\n",
        "set_difference_result = np.setdiff1d(array1, array2)\n",
        "\n",
        "xor_result = np.setxor1d(array1, array2)\n",
        "\n",
        "print(\"Union:\", union_result)\n",
        "print(\"Intersection:\", intersection_result)\n",
        "print(\"Set Difference:\", set_difference_result)\n",
        "print(\"XOR:\", xor_result)\n"
      ],
      "metadata": {
        "colab": {
          "base_uri": "https://localhost:8080/",
          "height": 0
        },
        "id": "j_p5v6lRbahM",
        "outputId": "5a5fa0ac-79fb-4b6d-f29b-644564a2447c"
      },
      "execution_count": 2,
      "outputs": [
        {
          "output_type": "stream",
          "name": "stdout",
          "text": [
            "Union: [1 2 3 4 5 6 7]\n",
            "Intersection: [3 4 5]\n",
            "Set Difference: [1 2]\n",
            "XOR: [1 2 6 7]\n"
          ]
        }
      ]
    },
    {
      "cell_type": "code",
      "source": [
        "import numpy as np\n",
        "\n",
        "array = np.random.randint(10,size=6)\n",
        "\n",
        "print(\"Original Array:\")\n",
        "print(array)\n",
        "\n",
        "cumulative_sum = np.cumsum(array)\n",
        "\n",
        "cumulative_product = np.cumprod(array)\n",
        "\n",
        "discrete_difference = np.diff(array, n=3)\n",
        "\n",
        "unique_elements = np.unique(array)\n",
        "\n",
        "print(\"\\nCumulative Sum:\")\n",
        "print(cumulative_sum)\n",
        "\n",
        "print(\"\\nCumulative Product:\")\n",
        "print(cumulative_product)\n",
        "\n",
        "print(\"\\nDiscrete Difference (with n=3):\")\n",
        "print(discrete_difference)\n",
        "\n",
        "print(\"\\nUnique Elements:\")\n",
        "print(unique_elements)\n"
      ],
      "metadata": {
        "colab": {
          "base_uri": "https://localhost:8080/",
          "height": 0
        },
        "id": "JMRDxUfBef6m",
        "outputId": "56d57af9-c570-4ec8-848e-23d50a61dd1e"
      },
      "execution_count": 8,
      "outputs": [
        {
          "output_type": "stream",
          "name": "stdout",
          "text": [
            "Original Array:\n",
            "[9 5 1 9 5 6]\n",
            "\n",
            "Cumulative Sum:\n",
            "[ 9 14 15 24 29 35]\n",
            "\n",
            "Cumulative Product:\n",
            "[    9    45    45   405  2025 12150]\n",
            "\n",
            "Discrete Difference (with n=3):\n",
            "[ 12 -24  17]\n",
            "\n",
            "Unique Elements:\n",
            "[1 5 6 9]\n"
          ]
        }
      ]
    },
    {
      "cell_type": "code",
      "source": [
        "import numpy as np\n",
        "\n",
        "array1 = np.array([1, 2, 3, 4, 5])\n",
        "array2 = np.array([10, 20, 30, 40, 50])\n",
        "\n",
        "result_zip = np.array([x + y for x, y in zip(array1, array2)])\n",
        "\n",
        "result_np_add = np.add(array1, array2)\n",
        "\n",
        "def custom_add(x, y):\n",
        "    return x + y\n",
        "\n",
        "add_func = np.frompyfunc(custom_add, 2, 1)\n",
        "result_custom = add_func(array1, array2)\n",
        "\n",
        "print(\"Array 1:\", array1)\n",
        "print(\"Array 2:\", array2)\n",
        "\n",
        "print(\"\\nAddition using zip():\")\n",
        "print(result_zip)\n",
        "\n",
        "print(\"\\nAddition using np.add():\")\n",
        "print(result_np_add)\n",
        "\n"
      ],
      "metadata": {
        "colab": {
          "base_uri": "https://localhost:8080/",
          "height": 0
        },
        "id": "Vu94NDgwnLoW",
        "outputId": "5809cbf5-f578-4bce-8cc7-3004f0fa7870"
      },
      "execution_count": 9,
      "outputs": [
        {
          "output_type": "stream",
          "name": "stdout",
          "text": [
            "Array 1: [1 2 3 4 5]\n",
            "Array 2: [10 20 30 40 50]\n",
            "\n",
            "Addition using zip():\n",
            "[11 22 33 44 55]\n",
            "\n",
            "Addition using np.add():\n",
            "[11 22 33 44 55]\n"
          ]
        }
      ]
    },
    {
      "cell_type": "code",
      "source": [
        "from functools import reduce\n",
        "import math\n",
        "\n",
        "elements = [12, 18, 24, 36]\n",
        "\n",
        "def calculate_lcm(x, y):\n",
        "    return x * y // math.gcd(x, y)\n",
        "\n",
        "lcm_result = reduce(calculate_lcm, elements)\n",
        "\n",
        "gcd_result = reduce(math.gcd, elements)\n",
        "\n",
        "print(\"Elements:\", elements)\n",
        "print(\"LCM:\", lcm_result)\n",
        "print(\"GCD:\", gcd_result)\n"
      ],
      "metadata": {
        "colab": {
          "base_uri": "https://localhost:8080/",
          "height": 0
        },
        "id": "HTN4LpunpkWG",
        "outputId": "d6a50ef7-89c2-4be2-bd7b-ba8ba6f85be8"
      },
      "execution_count": 10,
      "outputs": [
        {
          "output_type": "stream",
          "name": "stdout",
          "text": [
            "Elements: [12, 18, 24, 36]\n",
            "LCM: 72\n",
            "GCD: 6\n"
          ]
        }
      ]
    }
  ]
}