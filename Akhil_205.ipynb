{
  "nbformat": 4,
  "nbformat_minor": 0,
  "metadata": {
    "colab": {
      "provenance": []
    },
    "kernelspec": {
      "name": "python3",
      "display_name": "Python 3"
    },
    "language_info": {
      "name": "python"
    }
  },
  "cells": [
    {
      "cell_type": "markdown",
      "source": [
        "Lab Exercise 3\n",
        "\n",
        "Write a function in Python with a string such that it accepts a parameter- “stringsplit”. This encoded string will contain your name, domain name and register number. You can separate the values in the string by any number of underscores. [The string should not contain any other underscore symbols in your name, domain name and register number]. The function should return a Python dictionary with your name, domain name and register number.\n"
      ],
      "metadata": {
        "id": "S7qbXDHfQRtJ"
      }
    },
    {
      "cell_type": "code",
      "execution_count": null,
      "metadata": {
        "colab": {
          "base_uri": "https://localhost:8080/"
        },
        "id": "EUL0skUl2HrH",
        "outputId": "626537f7-ef02-4a0c-f369-9b6d7306047e"
      },
      "outputs": [
        {
          "output_type": "stream",
          "name": "stdout",
          "text": [
            "{'name': 'Akhil', 'domainname': 'vehicleRental', 'regno': '2347205'}\n"
          ]
        }
      ],
      "source": [
        "def decode(stringsplit):\n",
        "    firstsplit = stringsplit.split('__')\n",
        "    username= firstsplit[0].strip()\n",
        "    domain= firstsplit[1].strip()\n",
        "    registernumber= firstsplit[2].strip()\n",
        "\n",
        "    dict={\"name\":firstsplit[0], \"domainname\": firstsplit[1],\"regno\":firstsplit[2]}\n",
        "    return dict\n",
        "encoding = \"Akhil__vehicleRental__2347205\"\n",
        "decoded = decode(encoding)\n",
        "print(decoded)\n",
        "\n"
      ]
    },
    {
      "cell_type": "markdown",
      "source": [
        "Lab Exercise 4\n",
        "\n",
        "Write a Python program to implement the object-oriented concepts of multiple, Multilevel and Hierarchical Inheritances using your domain applications.\n"
      ],
      "metadata": {
        "id": "6Tin1d2yQMF3"
      }
    },
    {
      "cell_type": "code",
      "source": [
        "class Vehicle:\n",
        "    def __init__(self, make, model):\n",
        "        self.make = make\n",
        "        self.model = model\n",
        "\n",
        "    def display_info(self):\n",
        "        return f\"Make: {self.make}, Model: {self.model}\"\n",
        "\n",
        "\n",
        "class Car(Vehicle):\n",
        "    def __init__(self, make, model, num_seats):\n",
        "        super().__init__(make, model)\n",
        "        self.num_seats = num_seats\n",
        "\n",
        "    def display_info(self):\n",
        "        return f\"Type: Car, {super().display_info()}, Number of Seats: {self.num_seats}\"\n",
        "\n",
        "\n",
        "class Truck(Vehicle):\n",
        "    def __init__(self, make, model, max_load):\n",
        "        super().__init__(make, model)\n",
        "        self.max_load = max_load\n",
        "\n",
        "    def display_info(self):\n",
        "        return f\"Type: Truck, {super().display_info()}, Max Load: {self.max_load} kg\"\n",
        "\n",
        "\n",
        "class Bus(Vehicle):\n",
        "    def __init__(self, make, model, num_passengers):\n",
        "        super().__init__(make, model)\n",
        "        self.num_passengers = num_passengers\n",
        "\n",
        "    def display_info(self):\n",
        "        return f\"Type: Bus, {super().display_info()}, Number of Passengers: {self.num_passengers}\"\n",
        "\n",
        "\n",
        "class LuxuryCar(Car):\n",
        "    def __init__(self, make, model, num_seats, features):\n",
        "        super().__init__(make, model, num_seats)\n",
        "        self.features = features\n",
        "\n",
        "    def display_info(self):\n",
        "        return f\"Type: Luxury Car, {super().display_info()}, Features: {', '.join(self.features)}\"\n",
        "\n",
        "\n",
        "class RentalManager:\n",
        "    def __init__(self):\n",
        "        self.vehicles = []\n",
        "\n",
        "    def add_vehicle(self, vehicle):\n",
        "        self.vehicles.append(vehicle)\n",
        "\n",
        "    def display_all_vehicles(self):\n",
        "        for vehicle in self.vehicles:\n",
        "            print(vehicle.display_info())\n",
        "\n",
        "\n",
        "car1 = Car(\"Toyota\", \"Camry\", 5)\n",
        "truck1 = Truck(\"Ford\", \"F-150\", 2000)\n",
        "bus1 = Bus(\"Mercedes\", \"Sprinter\", 20)\n",
        "luxury_car1 = LuxuryCar(\"BMW\", \"X5\", 5, [\"Leather Seats\", \"Sunroof\"])\n",
        "\n",
        "rental_manager = RentalManager()\n",
        "rental_manager.add_vehicle(car1)\n",
        "rental_manager.add_vehicle(truck1)\n",
        "rental_manager.add_vehicle(bus1)\n",
        "rental_manager.add_vehicle(luxury_car1)\n",
        "\n",
        "rental_manager.display_all_vehicles()\n",
        "\n"
      ],
      "metadata": {
        "id": "_xyrqF22N06y",
        "colab": {
          "base_uri": "https://localhost:8080/",
          "height": 0
        },
        "outputId": "097766be-e365-4b65-dfcf-283f65d53b9e"
      },
      "execution_count": 1,
      "outputs": [
        {
          "output_type": "stream",
          "name": "stdout",
          "text": [
            "Type: Car, Make: Toyota, Model: Camry, Number of Seats: 5\n",
            "Type: Truck, Make: Ford, Model: F-150, Max Load: 2000 kg\n",
            "Type: Bus, Make: Mercedes, Model: Sprinter, Number of Passengers: 20\n",
            "Type: Luxury Car, Type: Car, Make: BMW, Model: X5, Number of Seats: 5, Features: Leather Seats, Sunroof\n"
          ]
        }
      ]
    }
  ]
}