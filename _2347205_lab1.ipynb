{
  "cells": [
    {
      "cell_type": "markdown",
      "source": [
        "Lab Exercise 1: Demonstrate the use of Python data structures.\n",
        "i)                Write a paragraph about introducing you and your selected domain (include Full Name, domain name, register number, year …….).\n",
        "Write a python program to count the frequency of any specific word (in your domain) in the paragraph.\n",
        "·   \tWrite a python program to display all the datatypes of selected specific elements in the paragraph. (For example:– name - string, reg.no - int, marks - float, etc.)\n",
        "·   \tWrite a python program to count the number of alphabets, numeric and other special symbols in the paragraph.\n",
        "\n",
        "ii)             Sets and Tuples\n",
        "·   \tCreate a Set with elements that consists of various data types (int, float, string, Boolean, etc. from your domain) and perform the functions pop(), clear(), discard() and del. Write the insights as docstring.\n",
        "·   \tUpdate the Set with minimum 5 string attributes of your domain and arrange the Set in descending order.\n",
        "·   \tCreate a Tuple and Execute the packing and unpacking operations of tuples using the attributes of your domain.\n",
        "·   \tEnter your domain name as characters and count any number of characters and print the count (for example – (‘p’,’r’,’o’,’g’,’r’,’a’,’m’) count of ‘r’ = 2)\n",
        "·   \tEnter your domain name, execute all the slicing possibilities and also negative indexing.\n",
        "\n",
        "\n"
      ],
      "metadata": {
        "id": "BGX6hCHxdqf-"
      }
    },
    {
      "cell_type": "markdown",
      "source": [
        "I am Akhil Baby, and I am currently pursuing my MCA at Christ college. My passion lies in the domain of vehicle rental management, and I am registered under the college number 2347205"
      ],
      "metadata": {
        "id": "r6VkdRYPdP3y"
      }
    },
    {
      "cell_type": "code",
      "execution_count": null,
      "metadata": {
        "colab": {
          "base_uri": "https://localhost:8080/"
        },
        "id": "x2NKDI5CyJol",
        "outputId": "0fb07a0c-f423-4b5d-e195-18a1ee01c395"
      },
      "outputs": [
        {
          "name": "stdout",
          "output_type": "stream",
          "text": [
            "The word 'vehicle' appears 1 times in the paragraph.\n"
          ]
        }
      ],
      "source": [
        "def count_word_frequency(paragraph, word):\n",
        "    words = paragraph.lower().split()\n",
        "    word_count = words.count(word.lower())\n",
        "    return word_count\n",
        "\n",
        "paragraph = \"I am Akhil Baby, and I am currently pursuing my MCA at Christ college. My passion lies in the domain of vehicle rental management, and I am registered under the college number 2347205\"\n",
        "specific_word = \"vehicle\"\n",
        "frequency = count_word_frequency(paragraph, specific_word)\n",
        "print(f\"The word '{specific_word}' appears {frequency} times in the paragraph.\")\n"
      ]
    },
    {
      "cell_type": "code",
      "execution_count": null,
      "metadata": {
        "colab": {
          "base_uri": "https://localhost:8080/"
        },
        "id": "9TaD4RIbz6tU",
        "outputId": "b74bc259-bb67-41ac-ede4-80dd16d91e45"
      },
      "outputs": [
        {
          "name": "stdout",
          "output_type": "stream",
          "text": [
            "I - string\n",
            "am - string\n",
            "Akhil - string\n",
            "Baby, - string\n",
            "and - string\n",
            "currently - string\n",
            "pursuing - string\n",
            "my - string\n",
            "MCA - string\n",
            "at - string\n",
            "Christ - string\n",
            "college. - string\n",
            "My - string\n",
            "passion - string\n",
            "lies - string\n",
            "in - string\n",
            "the - string\n",
            "domain - string\n",
            "of - string\n",
            "vehicle - string\n",
            "rental - string\n",
            "management, - string\n",
            "registered - string\n",
            "under - string\n",
            "college - string\n",
            "number - string\n",
            "2347205 - int\n"
          ]
        }
      ],
      "source": [
        "def get_element_datatypes(paragraph):\n",
        "    elements = paragraph.split()\n",
        "    element_datatypes = {}\n",
        "\n",
        "    for element in elements:\n",
        "        if element.isdigit():\n",
        "            element_datatypes[element] = \"int\"\n",
        "        elif element.replace('.', '', 1).isdigit():\n",
        "            element_datatypes[element] = \"float\"\n",
        "        else:\n",
        "            element_datatypes[element] = \"string\"\n",
        "\n",
        "    return element_datatypes\n",
        "\n",
        "paragraph = \" I am Akhil Baby, and I am currently pursuing my MCA at Christ college. My passion lies in the domain of vehicle rental management, and I am registered under the college number 2347205\"\n",
        "\n",
        "element_datatypes = get_element_datatypes(paragraph)\n",
        "for element, datatype in element_datatypes.items():\n",
        "    print(f\"{element} - {datatype}\")"
      ]
    },
    {
      "cell_type": "code",
      "execution_count": null,
      "metadata": {
        "colab": {
          "base_uri": "https://localhost:8080/"
        },
        "id": "e9k0kW4-0zXn",
        "outputId": "96e7ec28-f917-4c17-f104-3e1a717a036d"
      },
      "outputs": [
        {
          "name": "stdout",
          "output_type": "stream",
          "text": [
            "Number of alphabets: 282\n",
            "Number of numeric characters: 14\n",
            "Number of special characters: 71\n"
          ]
        }
      ],
      "source": [
        "def count_symbol_types(paragraph):\n",
        "    alphabet_count = 0\n",
        "    numeric_count = 0\n",
        "    special_count = 0\n",
        "\n",
        "    for char in paragraph:\n",
        "        if char.isalpha():\n",
        "            alphabet_count += 1\n",
        "        elif char.isdigit():\n",
        "            numeric_count += 1\n",
        "        else:\n",
        "            special_count += 1\n",
        "\n",
        "    return alphabet_count, numeric_count, special_count\n",
        "\n",
        "paragraph = \"I am Akhil Baby, and I am currently pursuing my MCA at Christ college. My passion lies in the domain of vehicle rental management, and I am registered under the college number 2347205\" \" I am Akhil Baby, and I am currently pursuing my MCA at Christ college. My passion lies in the domain of vehicle rental management, and I am registered under the college number 2347205\"\n",
        "\n",
        "alphabets, numeric, special = count_symbol_types(paragraph)\n",
        "\n",
        "print(f\"Number of alphabets: {alphabets}\")\n",
        "print(f\"Number of numeric characters: {numeric}\")\n",
        "print(f\"Number of special characters: {special}\")"
      ]
    },
    {
      "cell_type": "code",
      "execution_count": null,
      "metadata": {
        "colab": {
          "base_uri": "https://localhost:8080/"
        },
        "id": "89_fTpLO3Tdk",
        "outputId": "cb12175b-eea1-4bb9-8d31-921df4e3c906"
      },
      "outputs": [
        {
          "name": "stdout",
          "output_type": "stream",
          "text": [
            "Original Set: {1, 'customer', 3.14, None}\n",
            "After pop(): {'customer', 3.14, None}\n",
            "After clear(): set()\n",
            "After discard(): {1, 3.14, None}\n"
          ]
        }
      ],
      "source": [
        "data_types_set = {1, 3.14, \"maintainance\",  None}\n",
        "print(\"Original Set:\", data_types_set)\n",
        "\n",
        "data_types_set.pop()\n",
        "print(\"After pop():\", data_types_set)\n",
        "\n",
        "data_types_set.clear()\n",
        "print(\"After clear():\", data_types_set)\n",
        "\n",
        "data_types_set = {1, 3.14, \"maintainance\", None}\n",
        "data_types_set.discard(\"maintainance\")\n",
        "print(\"After discard():\", data_types_set)\n",
        "\n",
        "del data_types_set"
      ]
    },
    {
      "cell_type": "code",
      "execution_count": null,
      "metadata": {
        "colab": {
          "base_uri": "https://localhost:8080/"
        },
        "id": "WoxtS8-p5k70",
        "outputId": "ac01a0a5-e83f-4fbe-9beb-0db46f3005ce"
      },
      "outputs": [
        {
          "name": "stdout",
          "output_type": "stream",
          "text": [
            "{1, 'vehicle', 4, 5, 'rent'}\n",
            "{'maintainance', 1, 'vehicle', 4, 5, 'rent', 10}\n"
          ]
        }
      ],
      "source": [
        "data_set = {1, \"vehicle\",\"rent\", 4, 5}\n",
        "print(data_set)\n",
        "data_set.update([\"maintainance\",10])\n",
        "print(data_set)\n"
      ]
    },
    {
      "cell_type": "code",
      "execution_count": null,
      "metadata": {
        "colab": {
          "base_uri": "https://localhost:8080/"
        },
        "id": "cX4h9sqE7gyF",
        "outputId": "48561230-78cd-4722-a0a5-f0273cabf0ea"
      },
      "outputs": [
        {
          "name": "stdout",
          "output_type": "stream",
          "text": [
            "['rent', 'maintainance', 'customer', 'address']\n"
          ]
        }
      ],
      "source": [
        "dom_set={\"maintainance\",\"rent\",\"customer\",\"address\"}\n",
        "sort_dom_set=sorted(dom_set,reverse=True)\n",
        "print(sort_dom_set)"
      ]
    },
    {
      "cell_type": "code",
      "execution_count": null,
      "metadata": {
        "colab": {
          "base_uri": "https://localhost:8080/"
        },
        "id": "Fz2pNG2M8ZfN",
        "outputId": "737e919d-2608-4bb8-db8f-e8bdd3afb119"
      },
      "outputs": [
        {
          "name": "stdout",
          "output_type": "stream",
          "text": [
            "maintainance\n",
            "customer\n"
          ]
        }
      ],
      "source": [
        "dom_set=(\"maintainance\",\"rent\",\"customer\",\"address\")\n",
        "language, version, money, answer = dom_set\n",
        "print(language)\n",
        "print(money)"
      ]
    },
    {
      "cell_type": "code",
      "execution_count": null,
      "metadata": {
        "colab": {
          "background_save": true
        },
        "id": "TeyI4rXf9jZZ"
      },
      "outputs": [],
      "source": [
        "domain_name = ('v', 'e', 'h', 'i', 'c', 'l', 'e','r', 'e', 'n', 'i', 'c', 'l', 'e')\n",
        "count_r = domain_name.count('r')\n"
      ]
    }
  ],
  "metadata": {
    "colab": {
      "provenance": []
    },
    "kernelspec": {
      "display_name": "Python 3",
      "name": "python3"
    },
    "language_info": {
      "name": "python"
    }
  },
  "nbformat": 4,
  "nbformat_minor": 0
}